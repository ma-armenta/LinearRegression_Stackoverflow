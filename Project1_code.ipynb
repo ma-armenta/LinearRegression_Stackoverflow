{
 "cells": [
  {
   "cell_type": "markdown",
   "metadata": {},
   "source": [
    "# Business Understanding\n",
    "#### The purpose of this exercise is to find any trends of valuable insight in the stackoverflow survery data, via implementation of knowledge acquired in the firt section of the Udacity Nano Degree in Data Science.\n",
    "\n",
    "# Data Understanding\n",
    "### The survey data available consists of a set of questions answered by a pletora of individuals to have used/visited the stackoverflow (on the years 2017,2018 and 2019) website. An interesting fact about the set of questions is that, sometimes the wording of the questions/answer column headers, varied, so some cleaning had to be done to be able to implement some aggredation operations.\n",
    "### After the data exploration and Understanding, the following questions were formulated for the purpose of this exercise:\n",
    "### 1. What is the most popular lever of formal education individuals will hold for year 2020?\n",
    "### 2. What will be the most desired language to work with?\n",
    "### 3.Country with the most users for 2020"
   ]
  },
  {
   "cell_type": "markdown",
   "execution_count": 25,
   "metadata": {},
   "outputs": [],
   "source": [
    "### The required libraries for this example are pandas, numpy and sklearn. These can be installed via `pip install <library>`.\n",
    "### matplotlib is an optional library if one would like to create any visuals to data and its findings. I will not use it, since I am soley interested in the prediction values."
   ]
  },
  {
   "cell_type": "code",
   "execution_count": 20,
   "metadata": {},
   "outputs": [],
   "source": [
    "import pandas as pd \n",
    "import numpy as np\n",
    "from sklearn.linear_model import LinearRegression\n",
    "# import matplotlib.pyplot as plt"
   ]
  },
  {
   "cell_type": "markdown",
   "metadata": {},
   "source": [
    "# Reading data and cleaning"
   ]
  },
  {
   "cell_type": "code",
   "execution_count": 21,
   "metadata": {},
   "outputs": [],
   "source": [
    "data2017 = pd.read_csv('project1_data/developer_survey_2017/survey_results_public.csv')\n",
    "data2017['SurveyYear'] = 2017\n",
    "data2017.shape[1]\n",
    "data2017 = data2017.rename(columns={'WantWorkLanguage':'LanguageDesireNextYear'})\n",
    "# Line above is an example of the cleaning done to have desired columns named the same, in order to use a groupby aggregation."
   ]
  },
  {
   "cell_type": "code",
   "execution_count": 22,
   "metadata": {},
   "outputs": [
    {
     "name": "stderr",
     "output_type": "stream",
     "text": "/Library/Frameworks/Python.framework/Versions/3.7/lib/python3.7/site-packages/IPython/core/interactiveshell.py:3049: DtypeWarning: Columns (8,12,13,14,15,16,50,51,52,53,55,56,57,58,59,60,61,62,63,64,65,66,67,68,69,70,71,72,73,74,75,76,77,78,79,80,81,82,83,84,85,93,94,95,96,97,98,99,100,101,102,103,104,105,106,107,108,109,110,111,112,113,114,115,116,117,118,119,120,121,122,123,124,125,126,127,128) have mixed types.Specify dtype option on import or set low_memory=False.\n  interactivity=interactivity, compiler=compiler, result=result)\n"
    },
    {
     "data": {
      "text/plain": "130"
     },
     "execution_count": 22,
     "metadata": {},
     "output_type": "execute_result"
    }
   ],
   "source": [
    "data2018 = pd.read_csv('project1_data/developer_survey_2018/survey_results_public.csv')\n",
    "data2018['SurveyYear'] = 2018\n",
    "data2018.shape[1]"
   ]
  },
  {
   "cell_type": "code",
   "execution_count": 23,
   "metadata": {},
   "outputs": [],
   "source": [
    "data2019 = pd.read_csv('project1_data/developer_survey_2019/survey_results_public.csv')\n",
    "data2019['SurveyYear'] = 2019\n",
    "data2019 = data2019.rename(columns={'EdLevel':'FormalEducation'})"
   ]
  },
  {
   "cell_type": "code",
   "execution_count": 24,
   "metadata": {},
   "outputs": [],
   "source": [
    "allData_complete = pd.concat([data2017,data2018,data2019], axis=0, ignore_index=True,sort=False)\n",
    "allData_complete = allData_complete.reset_index(drop=True)"
   ]
  },
  {
   "cell_type": "code",
   "execution_count": 25,
   "metadata": {},
   "outputs": [
    {
     "data": {
      "text/html": "<div>\n<style scoped>\n    .dataframe tbody tr th:only-of-type {\n        vertical-align: middle;\n    }\n\n    .dataframe tbody tr th {\n        vertical-align: top;\n    }\n\n    .dataframe thead th {\n        text-align: right;\n    }\n</style>\n<table border=\"1\" class=\"dataframe\">\n  <thead>\n    <tr style=\"text-align: right;\">\n      <th></th>\n      <th></th>\n      <th>Respondent</th>\n    </tr>\n    <tr>\n      <th>FormalEducation</th>\n      <th>SurveyYear</th>\n      <th></th>\n    </tr>\n  </thead>\n  <tbody>\n    <tr>\n      <th rowspan=\"2\" valign=\"top\">Associate degree</th>\n      <th>2018</th>\n      <td>2970</td>\n    </tr>\n    <tr>\n      <th>2019</th>\n      <td>2938</td>\n    </tr>\n    <tr>\n      <th>Bachelor's degree</th>\n      <th>2017</th>\n      <td>21609</td>\n    </tr>\n    <tr>\n      <th rowspan=\"2\" valign=\"top\">Bachelor’s degree (BA, BS, B.Eng., etc.)</th>\n      <th>2018</th>\n      <td>43659</td>\n    </tr>\n    <tr>\n      <th>2019</th>\n      <td>39134</td>\n    </tr>\n    <tr>\n      <th>Doctoral degree</th>\n      <th>2017</th>\n      <td>1308</td>\n    </tr>\n    <tr>\n      <th rowspan=\"3\" valign=\"top\">I never completed any formal education</th>\n      <th>2017</th>\n      <td>426</td>\n    </tr>\n    <tr>\n      <th>2018</th>\n      <td>700</td>\n    </tr>\n    <tr>\n      <th>2019</th>\n      <td>553</td>\n    </tr>\n    <tr>\n      <th>I prefer not to answer</th>\n      <th>2017</th>\n      <td>1109</td>\n    </tr>\n    <tr>\n      <th>Master's degree</th>\n      <th>2017</th>\n      <td>11141</td>\n    </tr>\n    <tr>\n      <th rowspan=\"2\" valign=\"top\">Master’s degree (MA, MS, M.Eng., MBA, etc.)</th>\n      <th>2018</th>\n      <td>21396</td>\n    </tr>\n    <tr>\n      <th>2019</th>\n      <td>19569</td>\n    </tr>\n    <tr>\n      <th rowspan=\"2\" valign=\"top\">Other doctoral degree (Ph.D, Ed.D., etc.)</th>\n      <th>2018</th>\n      <td>2214</td>\n    </tr>\n    <tr>\n      <th>2019</th>\n      <td>2432</td>\n    </tr>\n    <tr>\n      <th rowspan=\"3\" valign=\"top\">Primary/elementary school</th>\n      <th>2017</th>\n      <td>1047</td>\n    </tr>\n    <tr>\n      <th>2018</th>\n      <td>1656</td>\n    </tr>\n    <tr>\n      <th>2019</th>\n      <td>1422</td>\n    </tr>\n    <tr>\n      <th>Professional degree</th>\n      <th>2017</th>\n      <td>715</td>\n    </tr>\n    <tr>\n      <th rowspan=\"2\" valign=\"top\">Professional degree (JD, MD, etc.)</th>\n      <th>2018</th>\n      <td>1447</td>\n    </tr>\n    <tr>\n      <th>2019</th>\n      <td>1198</td>\n    </tr>\n    <tr>\n      <th>Secondary school</th>\n      <th>2017</th>\n      <td>5908</td>\n    </tr>\n    <tr>\n      <th rowspan=\"2\" valign=\"top\">Secondary school (e.g. American high school, German Realschule or Gymnasium, etc.)</th>\n      <th>2018</th>\n      <td>8951</td>\n    </tr>\n    <tr>\n      <th>2019</th>\n      <td>8642</td>\n    </tr>\n    <tr>\n      <th>Some college/university study without earning a bachelor's degree</th>\n      <th>2017</th>\n      <td>8129</td>\n    </tr>\n    <tr>\n      <th rowspan=\"2\" valign=\"top\">Some college/university study without earning a degree</th>\n      <th>2018</th>\n      <td>11710</td>\n    </tr>\n    <tr>\n      <th>2019</th>\n      <td>10502</td>\n    </tr>\n  </tbody>\n</table>\n</div>",
      "text/plain": "                                                               Respondent\nFormalEducation                                    SurveyYear            \nAssociate degree                                   2018              2970\n                                                   2019              2938\nBachelor's degree                                  2017             21609\nBachelor’s degree (BA, BS, B.Eng., etc.)           2018             43659\n                                                   2019             39134\nDoctoral degree                                    2017              1308\nI never completed any formal education             2017               426\n                                                   2018               700\n                                                   2019               553\nI prefer not to answer                             2017              1109\nMaster's degree                                    2017             11141\nMaster’s degree (MA, MS, M.Eng., MBA, etc.)        2018             21396\n                                                   2019             19569\nOther doctoral degree (Ph.D, Ed.D., etc.)          2018              2214\n                                                   2019              2432\nPrimary/elementary school                          2017              1047\n                                                   2018              1656\n                                                   2019              1422\nProfessional degree                                2017               715\nProfessional degree (JD, MD, etc.)                 2018              1447\n                                                   2019              1198\nSecondary school                                   2017              5908\nSecondary school (e.g. American high school, Ge... 2018              8951\n                                                   2019              8642\nSome college/university study without earning a... 2017              8129\nSome college/university study without earning a... 2018             11710\n                                                   2019             10502"
     },
     "execution_count": 25,
     "metadata": {},
     "output_type": "execute_result"
    }
   ],
   "source": [
    "pd.DataFrame(allData_complete.groupby(['FormalEducation','SurveyYear']).count()['Respondent'])"
   ]
  },
  {
   "cell_type": "markdown",
   "metadata": {},
   "source": [
    "# Cleaning data for Formal Education prediction\n",
    "### Prepare Data\n",
    "### Below a `.dropna()` method was used. Since were only interested on those individuals that answer the question of interest. Imputing values can create false positives or assuptions that I would like to rule out. Also the option to not provide an answer was available."
   ]
  },
  {
   "cell_type": "code",
   "execution_count": 26,
   "metadata": {},
   "outputs": [],
   "source": [
    "data_FormalEducation = allData_complete[['Respondent','FormalEducation','SurveyYear']]\n",
    "data_FormalEducation = data_FormalEducation.dropna(axis=0)\n",
    "data_FormalEducation = data_FormalEducation.reset_index(drop=False)\n",
    "\n",
    "myRegex = [\"(?i)bachelor.*\",\"(?i).*master.*\",\"(?i).*doctoral.*\",\"(?i).*some.*\",\"(?i).*secondary.*\",\"(?i).*professional.*\"]\n",
    "myValues = [\"Bachelor's degree\",\"Master’s degree\",\"Doctoral degree\",\"Some college/university study without earning a degree\",\"Secondary school\",\"Professional degree\"]\n",
    "\n",
    "data_FormalEducation = data_FormalEducation.replace(to_replace=myRegex, value=myValues, regex=True)    "
   ]
  },
  {
   "cell_type": "code",
   "execution_count": 27,
   "metadata": {},
   "outputs": [
    {
     "data": {
      "text/html": "<div>\n<style scoped>\n    .dataframe tbody tr th:only-of-type {\n        vertical-align: middle;\n    }\n\n    .dataframe tbody tr th {\n        vertical-align: top;\n    }\n\n    .dataframe thead th {\n        text-align: right;\n    }\n</style>\n<table border=\"1\" class=\"dataframe\">\n  <thead>\n    <tr style=\"text-align: right;\">\n      <th></th>\n      <th></th>\n      <th>Respondent</th>\n    </tr>\n    <tr>\n      <th>FormalEducation</th>\n      <th>SurveyYear</th>\n      <th></th>\n    </tr>\n  </thead>\n  <tbody>\n    <tr>\n      <th rowspan=\"2\" valign=\"top\">Associate degree</th>\n      <th>2018</th>\n      <td>2970</td>\n    </tr>\n    <tr>\n      <th>2019</th>\n      <td>2938</td>\n    </tr>\n    <tr>\n      <th rowspan=\"3\" valign=\"top\">Bachelor's degree</th>\n      <th>2017</th>\n      <td>21609</td>\n    </tr>\n    <tr>\n      <th>2018</th>\n      <td>43659</td>\n    </tr>\n    <tr>\n      <th>2019</th>\n      <td>39134</td>\n    </tr>\n    <tr>\n      <th rowspan=\"3\" valign=\"top\">Doctoral degree</th>\n      <th>2017</th>\n      <td>1308</td>\n    </tr>\n    <tr>\n      <th>2018</th>\n      <td>2214</td>\n    </tr>\n    <tr>\n      <th>2019</th>\n      <td>2432</td>\n    </tr>\n    <tr>\n      <th rowspan=\"3\" valign=\"top\">I never completed any formal education</th>\n      <th>2017</th>\n      <td>426</td>\n    </tr>\n    <tr>\n      <th>2018</th>\n      <td>700</td>\n    </tr>\n    <tr>\n      <th>2019</th>\n      <td>553</td>\n    </tr>\n    <tr>\n      <th>I prefer not to answer</th>\n      <th>2017</th>\n      <td>1109</td>\n    </tr>\n    <tr>\n      <th rowspan=\"3\" valign=\"top\">Master’s degree</th>\n      <th>2017</th>\n      <td>11141</td>\n    </tr>\n    <tr>\n      <th>2018</th>\n      <td>21396</td>\n    </tr>\n    <tr>\n      <th>2019</th>\n      <td>19569</td>\n    </tr>\n    <tr>\n      <th rowspan=\"3\" valign=\"top\">Primary/elementary school</th>\n      <th>2017</th>\n      <td>1047</td>\n    </tr>\n    <tr>\n      <th>2018</th>\n      <td>1656</td>\n    </tr>\n    <tr>\n      <th>2019</th>\n      <td>1422</td>\n    </tr>\n    <tr>\n      <th rowspan=\"3\" valign=\"top\">Professional degree</th>\n      <th>2017</th>\n      <td>715</td>\n    </tr>\n    <tr>\n      <th>2018</th>\n      <td>1447</td>\n    </tr>\n    <tr>\n      <th>2019</th>\n      <td>1198</td>\n    </tr>\n    <tr>\n      <th rowspan=\"3\" valign=\"top\">Secondary school</th>\n      <th>2017</th>\n      <td>5908</td>\n    </tr>\n    <tr>\n      <th>2018</th>\n      <td>8951</td>\n    </tr>\n    <tr>\n      <th>2019</th>\n      <td>8642</td>\n    </tr>\n    <tr>\n      <th rowspan=\"3\" valign=\"top\">Some college/university study without earning a degree</th>\n      <th>2017</th>\n      <td>8129</td>\n    </tr>\n    <tr>\n      <th>2018</th>\n      <td>11710</td>\n    </tr>\n    <tr>\n      <th>2019</th>\n      <td>10502</td>\n    </tr>\n  </tbody>\n</table>\n</div>",
      "text/plain": "                                                               Respondent\nFormalEducation                                    SurveyYear            \nAssociate degree                                   2018              2970\n                                                   2019              2938\nBachelor's degree                                  2017             21609\n                                                   2018             43659\n                                                   2019             39134\nDoctoral degree                                    2017              1308\n                                                   2018              2214\n                                                   2019              2432\nI never completed any formal education             2017               426\n                                                   2018               700\n                                                   2019               553\nI prefer not to answer                             2017              1109\nMaster’s degree                                    2017             11141\n                                                   2018             21396\n                                                   2019             19569\nPrimary/elementary school                          2017              1047\n                                                   2018              1656\n                                                   2019              1422\nProfessional degree                                2017               715\n                                                   2018              1447\n                                                   2019              1198\nSecondary school                                   2017              5908\n                                                   2018              8951\n                                                   2019              8642\nSome college/university study without earning a... 2017              8129\n                                                   2018             11710\n                                                   2019             10502"
     },
     "execution_count": 27,
     "metadata": {},
     "output_type": "execute_result"
    }
   ],
   "source": [
    "FormalEd_grouped = pd.DataFrame(data_FormalEducation.groupby(['FormalEducation','SurveyYear']).count()['Respondent'])\n",
    "FormalEd_grouped"
   ]
  },
  {
   "cell_type": "code",
   "execution_count": 28,
   "metadata": {},
   "outputs": [],
   "source": [
    "eds = FormalEd_grouped.index.get_level_values(\"FormalEducation\").unique()\n",
    "educationResults = pd.DataFrame(columns=['FormalEducation','2020Forecast'])"
   ]
  },
  {
   "cell_type": "markdown",
   "metadata": {},
   "source": [
    "# Loop through education levels to make predictions for year 2020\n",
    "### Here is where the Data Modeling occurs. A function defined as  `predictionFunction`, was written to take common objects for each prediction, and return a data set with all predictoins under each desired category."
   ]
  },
  {
   "cell_type": "code",
   "execution_count": 29,
   "metadata": {},
   "outputs": [],
   "source": [
    "def predictionFunction(resultsDF, groupedDF, indexList, predictionCategory):\n",
    "    '''\n",
    "    runs a linear regressoin model to predict values of the desired category for year 2020\n",
    "    output: returns the results provided dataframe with the predictions\n",
    "    '''\n",
    "    results_ind = 0\n",
    "    for ind in indexList:\n",
    "        X = groupedDF.xs(ind).index.values.reshape(-1,1)\n",
    "        Y = groupedDF.loc[(ind,), ].values.reshape(-1, 1) # values converts it into a numpy array\n",
    "        linear_regressor = LinearRegression(n_jobs=-1)\n",
    "        linear_regressor.fit(X, Y)\n",
    "        Y_pred = linear_regressor.predict([[2020]])\n",
    "        \n",
    "        resultsDF.loc[results_ind, predictionCategory] = ind\n",
    "        resultsDF.loc[results_ind, '2020Forecast'] = Y_pred[0][0]\n",
    "        results_ind += 1\n",
    "\n",
    "predictionFunction(educationResults,FormalEd_grouped,eds,'FormalEducation')"
   ]
  },
  {
   "cell_type": "markdown",
   "metadata": {},
   "source": [
    "## Conclusion to question 1\n",
    "### Evaluate the Results\n",
    "#### Results show that most users on stackoverflow will hold a Bachelor's degree for year 2020"
   ]
  },
  {
   "cell_type": "code",
   "execution_count": 30,
   "metadata": {},
   "outputs": [
    {
     "data": {
      "text/html": "<div>\n<style scoped>\n    .dataframe tbody tr th:only-of-type {\n        vertical-align: middle;\n    }\n\n    .dataframe tbody tr th {\n        vertical-align: top;\n    }\n\n    .dataframe thead th {\n        text-align: right;\n    }\n</style>\n<table border=\"1\" class=\"dataframe\">\n  <thead>\n    <tr style=\"text-align: right;\">\n      <th></th>\n      <th>FormalEducation</th>\n      <th>2020Forecast</th>\n    </tr>\n  </thead>\n  <tbody>\n    <tr>\n      <th>1</th>\n      <td>Bachelor's degree</td>\n      <td>52325.7</td>\n    </tr>\n    <tr>\n      <th>5</th>\n      <td>Master’s degree</td>\n      <td>25796.7</td>\n    </tr>\n    <tr>\n      <th>9</th>\n      <td>Some college/university study without earning ...</td>\n      <td>12486.7</td>\n    </tr>\n    <tr>\n      <th>8</th>\n      <td>Secondary school</td>\n      <td>10567.7</td>\n    </tr>\n    <tr>\n      <th>2</th>\n      <td>Doctoral degree</td>\n      <td>3108.67</td>\n    </tr>\n    <tr>\n      <th>0</th>\n      <td>Associate degree</td>\n      <td>2906</td>\n    </tr>\n    <tr>\n      <th>6</th>\n      <td>Primary/elementary school</td>\n      <td>1750</td>\n    </tr>\n    <tr>\n      <th>7</th>\n      <td>Professional degree</td>\n      <td>1603</td>\n    </tr>\n    <tr>\n      <th>4</th>\n      <td>I prefer not to answer</td>\n      <td>1109</td>\n    </tr>\n    <tr>\n      <th>3</th>\n      <td>I never completed any formal education</td>\n      <td>686.667</td>\n    </tr>\n  </tbody>\n</table>\n</div>",
      "text/plain": "                                     FormalEducation 2020Forecast\n1                                  Bachelor's degree      52325.7\n5                                    Master’s degree      25796.7\n9  Some college/university study without earning ...      12486.7\n8                                   Secondary school      10567.7\n2                                    Doctoral degree      3108.67\n0                                   Associate degree         2906\n6                          Primary/elementary school         1750\n7                                Professional degree         1603\n4                             I prefer not to answer         1109\n3             I never completed any formal education      686.667"
     },
     "execution_count": 30,
     "metadata": {},
     "output_type": "execute_result"
    }
   ],
   "source": [
    "educationResults.sort_values('2020Forecast', ascending=False)"
   ]
  },
  {
   "cell_type": "markdown",
   "metadata": {},
   "source": [
    "# Cleaning data for desired language prediction\n",
    "### Prepare Data\n",
    "#### *Assumed the first selected language was the most desired by the individual for the purpose of this example\n",
    "### Below a `.dropna()` method was used. Since were only interested on those individuals that answer the question of interest. Imputing values can create false positives or assuptions that I would like to rule out."
   ]
  },
  {
   "cell_type": "code",
   "execution_count": 31,
   "metadata": {},
   "outputs": [
    {
     "data": {
      "text/html": "<div>\n<style scoped>\n    .dataframe tbody tr th:only-of-type {\n        vertical-align: middle;\n    }\n\n    .dataframe tbody tr th {\n        vertical-align: top;\n    }\n\n    .dataframe thead th {\n        text-align: right;\n    }\n</style>\n<table border=\"1\" class=\"dataframe\">\n  <thead>\n    <tr style=\"text-align: right;\">\n      <th></th>\n      <th></th>\n      <th>Respondent</th>\n    </tr>\n    <tr>\n      <th>LanguageDesireNextYear</th>\n      <th>SurveyYear</th>\n      <th></th>\n    </tr>\n  </thead>\n  <tbody>\n    <tr>\n      <th rowspan=\"3\" valign=\"top\">Assembly</th>\n      <th>2017</th>\n      <td>1923</td>\n    </tr>\n    <tr>\n      <th>2018</th>\n      <td>4165</td>\n    </tr>\n    <tr>\n      <th>2019</th>\n      <td>4659</td>\n    </tr>\n    <tr>\n      <th rowspan=\"2\" valign=\"top\">Bash</th>\n      <th>2018</th>\n      <td>42</td>\n    </tr>\n    <tr>\n      <th>2019</th>\n      <td>19041</td>\n    </tr>\n    <tr>\n      <th>...</th>\n      <th>...</th>\n      <td>...</td>\n    </tr>\n    <tr>\n      <th rowspan=\"2\" valign=\"top\">VBA</th>\n      <th>2018</th>\n      <td>27</td>\n    </tr>\n    <tr>\n      <th>2019</th>\n      <td>24</td>\n    </tr>\n    <tr>\n      <th rowspan=\"2\" valign=\"top\">Visual Basic 6</th>\n      <th>2017</th>\n      <td>10</td>\n    </tr>\n    <tr>\n      <th>2018</th>\n      <td>6</td>\n    </tr>\n    <tr>\n      <th>WebAssembly</th>\n      <th>2019</th>\n      <td>104</td>\n    </tr>\n  </tbody>\n</table>\n<p>101 rows × 1 columns</p>\n</div>",
      "text/plain": "                                   Respondent\nLanguageDesireNextYear SurveyYear            \nAssembly               2017              1923\n                       2018              4165\n                       2019              4659\nBash                   2018                42\n                       2019             19041\n...                                       ...\nVBA                    2018                27\n                       2019                24\nVisual Basic 6         2017                10\n                       2018                 6\nWebAssembly            2019               104\n\n[101 rows x 1 columns]"
     },
     "execution_count": 31,
     "metadata": {},
     "output_type": "execute_result"
    }
   ],
   "source": [
    "dataLanguage = allData_complete[['Respondent','LanguageDesireNextYear','SurveyYear']]\n",
    "dataLanguage = dataLanguage.dropna(axis=0)\n",
    "dataLanguage = dataLanguage.reset_index(drop=False)\n",
    "dataLanguage.LanguageDesireNextYear = dataLanguage.LanguageDesireNextYear.apply(lambda x: x.split(\";\")[0])\n",
    "dataLanguage.LanguageDesireNextYear = dataLanguage.LanguageDesireNextYear.apply(lambda x: x.split(\"/\")[0])\n",
    "\n",
    "\n",
    "Language_grouped = pd.DataFrame(dataLanguage.groupby(['LanguageDesireNextYear','SurveyYear']).count()['Respondent'])\n",
    "Language_grouped"
   ]
  },
  {
   "cell_type": "code",
   "execution_count": 32,
   "metadata": {},
   "outputs": [],
   "source": [
    "langs = Language_grouped.index.get_level_values(\"LanguageDesireNextYear\").unique()\n",
    "langsResults = pd.DataFrame(columns=['LanguageDesireNextYear','2020Forecast'])"
   ]
  },
  {
   "cell_type": "code",
   "execution_count": 33,
   "metadata": {},
   "outputs": [],
   "source": [
    "# Calling prediction function defined above\n",
    "\n",
    "predictionFunction(langsResults,Language_grouped,langs,'LanguageDesireNextYear')"
   ]
  },
  {
   "cell_type": "markdown",
   "metadata": {},
   "source": [
    "## Conclusion to question 2\n",
    "### Evaluate the Results\n",
    "#### Results show that most users' most desired language for year 2020 will be Bash"
   ]
  },
  {
   "cell_type": "code",
   "execution_count": 34,
   "metadata": {},
   "outputs": [
    {
     "data": {
      "text/html": "<div>\n<style scoped>\n    .dataframe tbody tr th:only-of-type {\n        vertical-align: middle;\n    }\n\n    .dataframe tbody tr th {\n        vertical-align: top;\n    }\n\n    .dataframe thead th {\n        text-align: right;\n    }\n</style>\n<table border=\"1\" class=\"dataframe\">\n  <thead>\n    <tr style=\"text-align: right;\">\n      <th></th>\n      <th>LanguageDesireNextYear</th>\n      <th>2020Forecast</th>\n    </tr>\n  </thead>\n  <tbody>\n    <tr>\n      <th>1</th>\n      <td>Bash</td>\n      <td>38040</td>\n    </tr>\n    <tr>\n      <th>17</th>\n      <td>HTML</td>\n      <td>21528</td>\n    </tr>\n    <tr>\n      <th>3</th>\n      <td>C#</td>\n      <td>16153.3</td>\n    </tr>\n    <tr>\n      <th>4</th>\n      <td>C++</td>\n      <td>8460.33</td>\n    </tr>\n    <tr>\n      <th>15</th>\n      <td>Go</td>\n      <td>8281.67</td>\n    </tr>\n    <tr>\n      <th>2</th>\n      <td>C</td>\n      <td>6704.33</td>\n    </tr>\n    <tr>\n      <th>20</th>\n      <td>Java</td>\n      <td>6516.33</td>\n    </tr>\n    <tr>\n      <th>0</th>\n      <td>Assembly</td>\n      <td>6318.33</td>\n    </tr>\n    <tr>\n      <th>31</th>\n      <td>Python</td>\n      <td>4575.67</td>\n    </tr>\n    <tr>\n      <th>21</th>\n      <td>JavaScript</td>\n      <td>4479</td>\n    </tr>\n    <tr>\n      <th>10</th>\n      <td>Dart</td>\n      <td>2897.5</td>\n    </tr>\n    <tr>\n      <th>19</th>\n      <td>Haskell</td>\n      <td>2275</td>\n    </tr>\n    <tr>\n      <th>23</th>\n      <td>Kotlin</td>\n      <td>2095</td>\n    </tr>\n    <tr>\n      <th>12</th>\n      <td>Elixir</td>\n      <td>1771</td>\n    </tr>\n    <tr>\n      <th>6</th>\n      <td>Clojure</td>\n      <td>1757</td>\n    </tr>\n    <tr>\n      <th>8</th>\n      <td>CoffeeScript</td>\n      <td>1664</td>\n    </tr>\n    <tr>\n      <th>16</th>\n      <td>Groovy</td>\n      <td>1606</td>\n    </tr>\n    <tr>\n      <th>34</th>\n      <td>Rust</td>\n      <td>777.333</td>\n    </tr>\n    <tr>\n      <th>38</th>\n      <td>Swift</td>\n      <td>630</td>\n    </tr>\n    <tr>\n      <th>13</th>\n      <td>Erlang</td>\n      <td>548.667</td>\n    </tr>\n    <tr>\n      <th>14</th>\n      <td>F#</td>\n      <td>493</td>\n    </tr>\n    <tr>\n      <th>29</th>\n      <td>PHP</td>\n      <td>437.333</td>\n    </tr>\n    <tr>\n      <th>39</th>\n      <td>TypeScript</td>\n      <td>432.333</td>\n    </tr>\n    <tr>\n      <th>26</th>\n      <td>Objective-C</td>\n      <td>351.667</td>\n    </tr>\n    <tr>\n      <th>28</th>\n      <td>Other(s):</td>\n      <td>347</td>\n    </tr>\n    <tr>\n      <th>25</th>\n      <td>Matlab</td>\n      <td>347</td>\n    </tr>\n    <tr>\n      <th>32</th>\n      <td>R</td>\n      <td>341</td>\n    </tr>\n    <tr>\n      <th>22</th>\n      <td>Julia</td>\n      <td>299</td>\n    </tr>\n    <tr>\n      <th>35</th>\n      <td>SQL</td>\n      <td>274.667</td>\n    </tr>\n    <tr>\n      <th>33</th>\n      <td>Ruby</td>\n      <td>254.333</td>\n    </tr>\n    <tr>\n      <th>30</th>\n      <td>Perl</td>\n      <td>244</td>\n    </tr>\n    <tr>\n      <th>9</th>\n      <td>Common Lisp</td>\n      <td>235</td>\n    </tr>\n    <tr>\n      <th>18</th>\n      <td>Hack</td>\n      <td>217</td>\n    </tr>\n    <tr>\n      <th>36</th>\n      <td>Scala</td>\n      <td>215.333</td>\n    </tr>\n    <tr>\n      <th>24</th>\n      <td>Lua</td>\n      <td>164</td>\n    </tr>\n    <tr>\n      <th>43</th>\n      <td>WebAssembly</td>\n      <td>104</td>\n    </tr>\n    <tr>\n      <th>11</th>\n      <td>Delphi</td>\n      <td>83</td>\n    </tr>\n    <tr>\n      <th>37</th>\n      <td>Smalltalk</td>\n      <td>81</td>\n    </tr>\n    <tr>\n      <th>41</th>\n      <td>VBA</td>\n      <td>38.3333</td>\n    </tr>\n    <tr>\n      <th>40</th>\n      <td>VB.NET</td>\n      <td>12</td>\n    </tr>\n    <tr>\n      <th>27</th>\n      <td>Ocaml</td>\n      <td>11</td>\n    </tr>\n    <tr>\n      <th>7</th>\n      <td>Cobol</td>\n      <td>8</td>\n    </tr>\n    <tr>\n      <th>5</th>\n      <td>CSS</td>\n      <td>5</td>\n    </tr>\n    <tr>\n      <th>42</th>\n      <td>Visual Basic 6</td>\n      <td>-2</td>\n    </tr>\n  </tbody>\n</table>\n</div>",
      "text/plain": "   LanguageDesireNextYear 2020Forecast\n1                    Bash        38040\n17                   HTML        21528\n3                      C#      16153.3\n4                     C++      8460.33\n15                     Go      8281.67\n2                       C      6704.33\n20                   Java      6516.33\n0                Assembly      6318.33\n31                 Python      4575.67\n21             JavaScript         4479\n10                   Dart       2897.5\n19                Haskell         2275\n23                 Kotlin         2095\n12                 Elixir         1771\n6                 Clojure         1757\n8            CoffeeScript         1664\n16                 Groovy         1606\n34                   Rust      777.333\n38                  Swift          630\n13                 Erlang      548.667\n14                     F#          493\n29                    PHP      437.333\n39             TypeScript      432.333\n26            Objective-C      351.667\n28              Other(s):          347\n25                 Matlab          347\n32                      R          341\n22                  Julia          299\n35                    SQL      274.667\n33                   Ruby      254.333\n30                   Perl          244\n9             Common Lisp          235\n18                   Hack          217\n36                  Scala      215.333\n24                    Lua          164\n43            WebAssembly          104\n11                 Delphi           83\n37              Smalltalk           81\n41                    VBA      38.3333\n40                 VB.NET           12\n27                  Ocaml           11\n7                   Cobol            8\n5                     CSS            5\n42         Visual Basic 6           -2"
     },
     "execution_count": 34,
     "metadata": {},
     "output_type": "execute_result"
    }
   ],
   "source": [
    "langsResults.sort_values('2020Forecast', ascending=False)"
   ]
  },
  {
   "cell_type": "markdown",
   "metadata": {},
   "source": [
    "# Cleaning data for country with the most users prediction\n",
    "### Prepare Data\n",
    "### Below a `.dropna()` method was used. Since were only interested on those individuals that answer the question of interest. Imputing values can create false positives or assuptions that I would like to rule out."
   ]
  },
  {
   "cell_type": "code",
   "execution_count": 35,
   "metadata": {},
   "outputs": [
    {
     "data": {
      "text/html": "<div>\n<style scoped>\n    .dataframe tbody tr th:only-of-type {\n        vertical-align: middle;\n    }\n\n    .dataframe tbody tr th {\n        vertical-align: top;\n    }\n\n    .dataframe thead th {\n        text-align: right;\n    }\n</style>\n<table border=\"1\" class=\"dataframe\">\n  <thead>\n    <tr style=\"text-align: right;\">\n      <th></th>\n      <th></th>\n      <th>Respondent</th>\n    </tr>\n    <tr>\n      <th>Country</th>\n      <th>SurveyYear</th>\n      <th></th>\n    </tr>\n  </thead>\n  <tbody>\n    <tr>\n      <th rowspan=\"3\" valign=\"top\">Afghanistan</th>\n      <th>2017</th>\n      <td>60</td>\n    </tr>\n    <tr>\n      <th>2018</th>\n      <td>64</td>\n    </tr>\n    <tr>\n      <th>2019</th>\n      <td>44</td>\n    </tr>\n    <tr>\n      <th>Aland Islands</th>\n      <th>2017</th>\n      <td>22</td>\n    </tr>\n    <tr>\n      <th>Albania</th>\n      <th>2017</th>\n      <td>76</td>\n    </tr>\n    <tr>\n      <th>...</th>\n      <th>...</th>\n      <td>...</td>\n    </tr>\n    <tr>\n      <th rowspan=\"2\" valign=\"top\">Zambia</th>\n      <th>2018</th>\n      <td>9</td>\n    </tr>\n    <tr>\n      <th>2019</th>\n      <td>12</td>\n    </tr>\n    <tr>\n      <th rowspan=\"3\" valign=\"top\">Zimbabwe</th>\n      <th>2017</th>\n      <td>20</td>\n    </tr>\n    <tr>\n      <th>2018</th>\n      <td>39</td>\n    </tr>\n    <tr>\n      <th>2019</th>\n      <td>39</td>\n    </tr>\n  </tbody>\n</table>\n<p>563 rows × 1 columns</p>\n</div>",
      "text/plain": "                          Respondent\nCountry       SurveyYear            \nAfghanistan   2017                60\n              2018                64\n              2019                44\nAland Islands 2017                22\nAlbania       2017                76\n...                              ...\nZambia        2018                 9\n              2019                12\nZimbabwe      2017                20\n              2018                39\n              2019                39\n\n[563 rows x 1 columns]"
     },
     "execution_count": 35,
     "metadata": {},
     "output_type": "execute_result"
    }
   ],
   "source": [
    "dataCountry = allData_complete[['Respondent','Country','SurveyYear']]\n",
    "dataCountry = dataCountry.dropna(axis=0)\n",
    "dataCountry = dataCountry.reset_index(drop=False)\n",
    "\n",
    "Country_grouped = pd.DataFrame(dataCountry.groupby(['Country','SurveyYear']).count()['Respondent'])\n",
    "Country_grouped"
   ]
  },
  {
   "cell_type": "code",
   "execution_count": 36,
   "metadata": {},
   "outputs": [],
   "source": [
    "countries = Country_grouped.index.get_level_values(\"Country\").unique()\n",
    "countryResults = pd.DataFrame(columns=['Country','2020Forecast'])"
   ]
  },
  {
   "cell_type": "code",
   "execution_count": 37,
   "metadata": {},
   "outputs": [],
   "source": [
    "# Calling prediction function defined above\n",
    "\n",
    "predictionFunction(countryResults,Country_grouped,countries,'Country')"
   ]
  },
  {
   "cell_type": "markdown",
   "metadata": {},
   "source": [
    "## Conclusion to question 3\n",
    "### Evaluate the Results\n",
    "#### Results show that the highest numnber of users for year 2020 will be from the United States"
   ]
  },
  {
   "cell_type": "code",
   "execution_count": 38,
   "metadata": {},
   "outputs": [
    {
     "data": {
      "text/html": "<div>\n<style scoped>\n    .dataframe tbody tr th:only-of-type {\n        vertical-align: middle;\n    }\n\n    .dataframe tbody tr th {\n        vertical-align: top;\n    }\n\n    .dataframe thead th {\n        text-align: right;\n    }\n</style>\n<table border=\"1\" class=\"dataframe\">\n  <thead>\n    <tr style=\"text-align: right;\">\n      <th></th>\n      <th>Country</th>\n      <th>2020Forecast</th>\n    </tr>\n  </thead>\n  <tbody>\n    <tr>\n      <th>228</th>\n      <td>United States</td>\n      <td>27065</td>\n    </tr>\n    <tr>\n      <th>96</th>\n      <td>India</td>\n      <td>13190.3</td>\n    </tr>\n    <tr>\n      <th>78</th>\n      <td>Germany</td>\n      <td>7212.33</td>\n    </tr>\n    <tr>\n      <th>226</th>\n      <td>United Kingdom</td>\n      <td>6793</td>\n    </tr>\n    <tr>\n      <th>40</th>\n      <td>Canada</td>\n      <td>4169</td>\n    </tr>\n    <tr>\n      <th>...</th>\n      <td>...</td>\n      <td>...</td>\n    </tr>\n    <tr>\n      <th>153</th>\n      <td>Niger</td>\n      <td>0</td>\n    </tr>\n    <tr>\n      <th>67</th>\n      <td>Eritrea</td>\n      <td>-1</td>\n    </tr>\n    <tr>\n      <th>182</th>\n      <td>Saint Lucia</td>\n      <td>-1</td>\n    </tr>\n    <tr>\n      <th>155</th>\n      <td>North Korea</td>\n      <td>-1.33333</td>\n    </tr>\n    <tr>\n      <th>34</th>\n      <td>Brunei Darussalam</td>\n      <td>-3</td>\n    </tr>\n  </tbody>\n</table>\n<p>242 rows × 2 columns</p>\n</div>",
      "text/plain": "               Country 2020Forecast\n228      United States        27065\n96               India      13190.3\n78             Germany      7212.33\n226     United Kingdom         6793\n40              Canada         4169\n..                 ...          ...\n153              Niger            0\n67             Eritrea           -1\n182        Saint Lucia           -1\n155        North Korea     -1.33333\n34   Brunei Darussalam           -3\n\n[242 rows x 2 columns]"
     },
     "execution_count": 38,
     "metadata": {},
     "output_type": "execute_result"
    }
   ],
   "source": [
    "countryResults.sort_values(\"2020Forecast\", ascending=False)"
   ]
  },
  {
   "cell_type": "markdown",
   "execution_count": null,
   "metadata": {},
   "outputs": [],
   "source": [
    "## Summary\n",
    "One can conlcude that in order to make a simple prediction with historical data, only 3 pythonlinbraries are needed. The more data, the more accurate the model can potentially be. Scoring is always recomended to asses the accuracy of the model. But in these case there was not a lot of information available to effectivelty create training and test data sets, but overall it is a simple and clean implementation of a the linear regreation library in sklern"
   ]
  },
  {
   "cell_type": "code",
   "execution_count": null,
   "metadata": {},
   "outputs": [],
   "source": []
  }
 ],
 "metadata": {
  "file_extension": ".py",
  "kernelspec": {
   "display_name": "Python 3.7.2 64-bit",
   "language": "python",
   "name": "python37264bit1191419f9ad44fa5881fdd9b8f0c1bbb"
  },
  "language_info": {
   "codemirror_mode": {
    "name": "ipython",
    "version": 3
   },
   "file_extension": ".py",
   "mimetype": "text/x-python",
   "name": "python",
   "nbconvert_exporter": "python",
   "pygments_lexer": "ipython3",
   "version": "3.7.2-final"
  },
  "mimetype": "text/x-python",
  "name": "python",
  "npconvert_exporter": "python",
  "pygments_lexer": "ipython3",
  "version": 3
 },
 "nbformat": 4,
 "nbformat_minor": 2
}
